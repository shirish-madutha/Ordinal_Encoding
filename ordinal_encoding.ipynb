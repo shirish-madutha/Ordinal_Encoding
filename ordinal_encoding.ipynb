{
 "cells": [
  {
   "cell_type": "markdown",
   "id": "c35d1dc4-42f2-42e5-bca8-5bbd8a08cbfa",
   "metadata": {},
   "source": [
    "# label encoding"
   ]
  },
  {
   "cell_type": "code",
   "execution_count": 1,
   "id": "395c3f42-faa1-4cba-ae3b-52eafb859d26",
   "metadata": {},
   "outputs": [],
   "source": [
    "import pandas as pd"
   ]
  },
  {
   "cell_type": "code",
   "execution_count": 2,
   "id": "871f12ee-3a2f-49cd-a4db-b81bad9d4e7e",
   "metadata": {},
   "outputs": [],
   "source": [
    "df=pd.DataFrame({\"color\":[\"red\",\"green\",\"blue\",\"green\",\"red\",\"black\"]})"
   ]
  },
  {
   "cell_type": "code",
   "execution_count": 3,
   "id": "509f3610-1098-4166-b885-12037b39835e",
   "metadata": {},
   "outputs": [],
   "source": [
    "from sklearn.preprocessing import LabelEncoder"
   ]
  },
  {
   "cell_type": "code",
   "execution_count": 4,
   "id": "b82dcf3d-da60-47ac-b958-a729af5d9e60",
   "metadata": {},
   "outputs": [],
   "source": [
    "label_encoder=LabelEncoder()"
   ]
  },
  {
   "cell_type": "code",
   "execution_count": 5,
   "id": "791bbc2f-ccc2-4d84-8856-3b1036180277",
   "metadata": {},
   "outputs": [],
   "source": [
    "df_label_encoder=pd.DataFrame(label_encoder.fit_transform(df[\"color\"]),columns=[\"label\"])"
   ]
  },
  {
   "cell_type": "code",
   "execution_count": 6,
   "id": "c9d450fe-fc22-4db9-a8ff-b20bf1bbfbee",
   "metadata": {},
   "outputs": [
    {
     "data": {
      "text/html": [
       "<div>\n",
       "<style scoped>\n",
       "    .dataframe tbody tr th:only-of-type {\n",
       "        vertical-align: middle;\n",
       "    }\n",
       "\n",
       "    .dataframe tbody tr th {\n",
       "        vertical-align: top;\n",
       "    }\n",
       "\n",
       "    .dataframe thead th {\n",
       "        text-align: right;\n",
       "    }\n",
       "</style>\n",
       "<table border=\"1\" class=\"dataframe\">\n",
       "  <thead>\n",
       "    <tr style=\"text-align: right;\">\n",
       "      <th></th>\n",
       "      <th>color</th>\n",
       "      <th>label</th>\n",
       "    </tr>\n",
       "  </thead>\n",
       "  <tbody>\n",
       "    <tr>\n",
       "      <th>0</th>\n",
       "      <td>red</td>\n",
       "      <td>3</td>\n",
       "    </tr>\n",
       "    <tr>\n",
       "      <th>1</th>\n",
       "      <td>green</td>\n",
       "      <td>2</td>\n",
       "    </tr>\n",
       "    <tr>\n",
       "      <th>2</th>\n",
       "      <td>blue</td>\n",
       "      <td>1</td>\n",
       "    </tr>\n",
       "    <tr>\n",
       "      <th>3</th>\n",
       "      <td>green</td>\n",
       "      <td>2</td>\n",
       "    </tr>\n",
       "    <tr>\n",
       "      <th>4</th>\n",
       "      <td>red</td>\n",
       "      <td>3</td>\n",
       "    </tr>\n",
       "    <tr>\n",
       "      <th>5</th>\n",
       "      <td>black</td>\n",
       "      <td>0</td>\n",
       "    </tr>\n",
       "  </tbody>\n",
       "</table>\n",
       "</div>"
      ],
      "text/plain": [
       "   color  label\n",
       "0    red      3\n",
       "1  green      2\n",
       "2   blue      1\n",
       "3  green      2\n",
       "4    red      3\n",
       "5  black      0"
      ]
     },
     "execution_count": 6,
     "metadata": {},
     "output_type": "execute_result"
    }
   ],
   "source": [
    "pd.concat([df,df_label_encoder],axis=1)"
   ]
  },
  {
   "cell_type": "markdown",
   "id": "f7fce7e2-5bb5-447d-adf9-bdbc9cc99c53",
   "metadata": {},
   "source": [
    "# Ordinal Encoding "
   ]
  },
  {
   "cell_type": "code",
   "execution_count": 11,
   "id": "b34c7b32-182d-4303-99dd-3bfa99911c6c",
   "metadata": {},
   "outputs": [],
   "source": [
    "from sklearn.preprocessing import OrdinalEncoder"
   ]
  },
  {
   "cell_type": "code",
   "execution_count": 15,
   "id": "ad96847f-bfb3-4368-b56a-655aa3ee262b",
   "metadata": {},
   "outputs": [],
   "source": [
    "ordinal_encoder=OrdinalEncoder(categories=[[\"red\",\"black\",\"green\",\"blue\"]])"
   ]
  },
  {
   "cell_type": "code",
   "execution_count": 16,
   "id": "e57b5ef1-9d74-49e1-a84e-7eca705426f2",
   "metadata": {},
   "outputs": [],
   "source": [
    "df_ordinal_encoder=pd.DataFrame(ordinal_encoder.fit_transform(df[[\"color\"]]),columns=[\"ordinal\"])"
   ]
  },
  {
   "cell_type": "code",
   "execution_count": 17,
   "id": "644a629a-9793-4f75-9875-bb52eae48ca8",
   "metadata": {},
   "outputs": [
    {
     "data": {
      "text/html": [
       "<div>\n",
       "<style scoped>\n",
       "    .dataframe tbody tr th:only-of-type {\n",
       "        vertical-align: middle;\n",
       "    }\n",
       "\n",
       "    .dataframe tbody tr th {\n",
       "        vertical-align: top;\n",
       "    }\n",
       "\n",
       "    .dataframe thead th {\n",
       "        text-align: right;\n",
       "    }\n",
       "</style>\n",
       "<table border=\"1\" class=\"dataframe\">\n",
       "  <thead>\n",
       "    <tr style=\"text-align: right;\">\n",
       "      <th></th>\n",
       "      <th>color</th>\n",
       "      <th>ordinal</th>\n",
       "    </tr>\n",
       "  </thead>\n",
       "  <tbody>\n",
       "    <tr>\n",
       "      <th>0</th>\n",
       "      <td>red</td>\n",
       "      <td>0.0</td>\n",
       "    </tr>\n",
       "    <tr>\n",
       "      <th>1</th>\n",
       "      <td>green</td>\n",
       "      <td>2.0</td>\n",
       "    </tr>\n",
       "    <tr>\n",
       "      <th>2</th>\n",
       "      <td>blue</td>\n",
       "      <td>3.0</td>\n",
       "    </tr>\n",
       "    <tr>\n",
       "      <th>3</th>\n",
       "      <td>green</td>\n",
       "      <td>2.0</td>\n",
       "    </tr>\n",
       "    <tr>\n",
       "      <th>4</th>\n",
       "      <td>red</td>\n",
       "      <td>0.0</td>\n",
       "    </tr>\n",
       "    <tr>\n",
       "      <th>5</th>\n",
       "      <td>black</td>\n",
       "      <td>1.0</td>\n",
       "    </tr>\n",
       "  </tbody>\n",
       "</table>\n",
       "</div>"
      ],
      "text/plain": [
       "   color  ordinal\n",
       "0    red      0.0\n",
       "1  green      2.0\n",
       "2   blue      3.0\n",
       "3  green      2.0\n",
       "4    red      0.0\n",
       "5  black      1.0"
      ]
     },
     "execution_count": 17,
     "metadata": {},
     "output_type": "execute_result"
    }
   ],
   "source": [
    "pd.concat([df,df_ordinal_encoder],axis=1)"
   ]
  },
  {
   "cell_type": "markdown",
   "id": "2d7b9a55-9f2d-42f6-98ff-325e450ceffb",
   "metadata": {},
   "source": [
    "# target guided ordinal encoding"
   ]
  },
  {
   "cell_type": "code",
   "execution_count": 41,
   "id": "768d095d-51f6-4a9d-bb9f-98245979899e",
   "metadata": {},
   "outputs": [],
   "source": [
    "df=pd.DataFrame({\"city\":[\"mumbai\",\"delhi\",\"hyderabad\",\"mumbai\",\"delhi\",\"goa\"],\n",
    "                \"price\":[20000,10000,15000,30000,12000,18000]})"
   ]
  },
  {
   "cell_type": "code",
   "execution_count": 60,
   "id": "323f28d9-8ab4-4738-a3ef-64bc1551a2f5",
   "metadata": {},
   "outputs": [],
   "source": [
    "encoder=df.groupby(\"city\")[\"price\"].mean()"
   ]
  },
  {
   "cell_type": "code",
   "execution_count": 61,
   "id": "22ed7296-aeb0-48cc-b347-e1bf2058d0dd",
   "metadata": {},
   "outputs": [
    {
     "data": {
      "text/plain": [
       "city\n",
       "delhi        11000.0\n",
       "goa          18000.0\n",
       "hyderabad    15000.0\n",
       "mumbai       25000.0\n",
       "Name: price, dtype: float64"
      ]
     },
     "execution_count": 61,
     "metadata": {},
     "output_type": "execute_result"
    }
   ],
   "source": [
    "encoder"
   ]
  },
  {
   "cell_type": "code",
   "execution_count": 62,
   "id": "a62837ae-ca68-4fcc-81f2-7689ebb77a3a",
   "metadata": {},
   "outputs": [],
   "source": [
    "df[\"encoded\"]=df[\"city\"].map(encoder)"
   ]
  },
  {
   "cell_type": "code",
   "execution_count": 63,
   "id": "6075a5cd-7c7d-4354-96fc-f152ec75aab2",
   "metadata": {},
   "outputs": [
    {
     "data": {
      "text/html": [
       "<div>\n",
       "<style scoped>\n",
       "    .dataframe tbody tr th:only-of-type {\n",
       "        vertical-align: middle;\n",
       "    }\n",
       "\n",
       "    .dataframe tbody tr th {\n",
       "        vertical-align: top;\n",
       "    }\n",
       "\n",
       "    .dataframe thead th {\n",
       "        text-align: right;\n",
       "    }\n",
       "</style>\n",
       "<table border=\"1\" class=\"dataframe\">\n",
       "  <thead>\n",
       "    <tr style=\"text-align: right;\">\n",
       "      <th></th>\n",
       "      <th>city</th>\n",
       "      <th>price</th>\n",
       "      <th>encoded</th>\n",
       "    </tr>\n",
       "  </thead>\n",
       "  <tbody>\n",
       "    <tr>\n",
       "      <th>0</th>\n",
       "      <td>mumbai</td>\n",
       "      <td>20000</td>\n",
       "      <td>25000.0</td>\n",
       "    </tr>\n",
       "    <tr>\n",
       "      <th>1</th>\n",
       "      <td>delhi</td>\n",
       "      <td>10000</td>\n",
       "      <td>11000.0</td>\n",
       "    </tr>\n",
       "    <tr>\n",
       "      <th>2</th>\n",
       "      <td>hyderabad</td>\n",
       "      <td>15000</td>\n",
       "      <td>15000.0</td>\n",
       "    </tr>\n",
       "    <tr>\n",
       "      <th>3</th>\n",
       "      <td>mumbai</td>\n",
       "      <td>30000</td>\n",
       "      <td>25000.0</td>\n",
       "    </tr>\n",
       "    <tr>\n",
       "      <th>4</th>\n",
       "      <td>delhi</td>\n",
       "      <td>12000</td>\n",
       "      <td>11000.0</td>\n",
       "    </tr>\n",
       "    <tr>\n",
       "      <th>5</th>\n",
       "      <td>goa</td>\n",
       "      <td>18000</td>\n",
       "      <td>18000.0</td>\n",
       "    </tr>\n",
       "  </tbody>\n",
       "</table>\n",
       "</div>"
      ],
      "text/plain": [
       "        city  price  encoded\n",
       "0     mumbai  20000  25000.0\n",
       "1      delhi  10000  11000.0\n",
       "2  hyderabad  15000  15000.0\n",
       "3     mumbai  30000  25000.0\n",
       "4      delhi  12000  11000.0\n",
       "5        goa  18000  18000.0"
      ]
     },
     "execution_count": 63,
     "metadata": {},
     "output_type": "execute_result"
    }
   ],
   "source": [
    "df"
   ]
  },
  {
   "cell_type": "code",
   "execution_count": null,
   "id": "f6bd315f-6ead-4dc1-bd31-4f5db64d1d61",
   "metadata": {},
   "outputs": [],
   "source": []
  }
 ],
 "metadata": {
  "kernelspec": {
   "display_name": "Python 3 (ipykernel)",
   "language": "python",
   "name": "python3"
  },
  "language_info": {
   "codemirror_mode": {
    "name": "ipython",
    "version": 3
   },
   "file_extension": ".py",
   "mimetype": "text/x-python",
   "name": "python",
   "nbconvert_exporter": "python",
   "pygments_lexer": "ipython3",
   "version": "3.10.8"
  }
 },
 "nbformat": 4,
 "nbformat_minor": 5
}
